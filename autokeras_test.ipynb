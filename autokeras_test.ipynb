{
  "nbformat": 4,
  "nbformat_minor": 0,
  "metadata": {
    "colab": {
      "provenance": [],
      "authorship_tag": "ABX9TyPuwSrjXM1YPTFOBSaYWqH7",
      "include_colab_link": true
    },
    "kernelspec": {
      "name": "python3",
      "display_name": "Python 3"
    },
    "language_info": {
      "name": "python"
    }
  },
  "cells": [
    {
      "cell_type": "markdown",
      "metadata": {
        "id": "view-in-github",
        "colab_type": "text"
      },
      "source": [
        "<a href=\"https://colab.research.google.com/github/netfron/auto-ml-test/blob/master/autokeras_test.ipynb\" target=\"_parent\"><img src=\"https://colab.research.google.com/assets/colab-badge.svg\" alt=\"Open In Colab\"/></a>"
      ]
    },
    {
      "cell_type": "code",
      "execution_count": 1,
      "metadata": {
        "colab": {
          "base_uri": "https://localhost:8080/"
        },
        "id": "Dju5ZQzRFFxa",
        "outputId": "2ffb4ddf-19d0-4904-dddc-fcbd36f3cdb9"
      },
      "outputs": [
        {
          "output_type": "stream",
          "name": "stdout",
          "text": [
            "Downloading data from https://storage.googleapis.com/tensorflow/tf-keras-datasets/mnist.npz\n",
            "11490434/11490434 [==============================] - 0s 0us/step\n",
            "Downloading data from https://storage.googleapis.com/tensorflow/tf-keras-datasets/boston_housing.npz\n",
            "57026/57026 [==============================] - 0s 0us/step\n"
          ]
        }
      ],
      "source": [
        "import tensorflow as tf\n",
        "\n",
        "# 분류 문제\n",
        "train_data = tf.keras.datasets.mnist.load_data()[0]\n",
        "test_data = tf.keras.datasets.mnist.load_data()[1]\n",
        "\n",
        "# 회귀 문제\n",
        "train_data = tf.keras.datasets.boston_housing.load_data()[0]\n",
        "test_data = tf.keras.datasets.boston_housing.load_data()[1]\n",
        "\n",
        "\n"
      ]
    }
  ]
}